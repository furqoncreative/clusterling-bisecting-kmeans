{
  "nbformat": 4,
  "nbformat_minor": 0,
  "metadata": {
    "colab": {
      "name": "Bisecting-K-Means.ipynb",
      "provenance": [],
      "authorship_tag": "ABX9TyMUbGCTEqegc1NjyzCUXuno",
      "include_colab_link": true
    },
    "kernelspec": {
      "name": "python3",
      "display_name": "Python 3"
    }
  },
  "cells": [
    {
      "cell_type": "markdown",
      "metadata": {
        "id": "view-in-github",
        "colab_type": "text"
      },
      "source": [
        "<a href=\"https://colab.research.google.com/github/furqoncreative/clusterling-bisecting-kmeans/blob/master/Bisecting_K_Means.ipynb\" target=\"_parent\"><img src=\"https://colab.research.google.com/assets/colab-badge.svg\" alt=\"Open In Colab\"/></a>"
      ]
    },
    {
      "cell_type": "code",
      "metadata": {
        "id": "Hfn27odm_isa"
      },
      "source": [
        "import random\r\n",
        "import matplotlib.pyplot as plt\r\n",
        "import numpy as np\r\n",
        "from sklearn.manifold import TSNE"
      ],
      "execution_count": 1,
      "outputs": []
    },
    {
      "cell_type": "code",
      "metadata": {
        "id": "GTXY31EUAvTO"
      },
      "source": [
        "def get_intra(clt, data):\r\n",
        "    total_dist = 0\r\n",
        "    for i in clt:\r\n",
        "        for j in clt:\r\n",
        "            dist = (data[i] - data[j]) ** 2\r\n",
        "            dist = dist.sum()\r\n",
        "            dist = dist ** 0.5\r\n",
        "            total_dist = total_dist + dist\r\n",
        "\r\n",
        "    return total_dist / (len(clt) * len(clt))"
      ],
      "execution_count": 2,
      "outputs": []
    },
    {
      "cell_type": "code",
      "metadata": {
        "id": "rKb25esWBfJ0"
      },
      "source": [
        "def get_inter(clt1, clt2, data):\r\n",
        "    total_dist = 0\r\n",
        "    for i in clt1:\r\n",
        "        for j in clt2:\r\n",
        "            dist = (data[i] - data[j]) ** 2\r\n",
        "            dist = dist.sum()\r\n",
        "            dist = dist ** 0.5\r\n",
        "            total_dist = total_dist + dist\r\n",
        "\r\n",
        "    return total_dist / (len(clt1) * len(clt2))"
      ],
      "execution_count": null,
      "outputs": []
    },
    {
      "cell_type": "code",
      "metadata": {
        "id": "4WMwlcl6BjYP"
      },
      "source": [
        "def get_center(data_idx, data):\r\n",
        "    center = np.zeros(7, dtype='float')\r\n",
        "    for i in data_idx:\r\n",
        "        center = center + data[i]\r\n",
        "\r\n",
        "    return center / len(data_idx)"
      ],
      "execution_count": 3,
      "outputs": []
    },
    {
      "cell_type": "code",
      "metadata": {
        "id": "Al7piZDRBpHX"
      },
      "source": [
        "def get_SSE(data_idx, data, center):\r\n",
        "    part_data = []\r\n",
        "    for i in data_idx:\r\n",
        "        part_data.append(data[i])\r\n",
        "    sse = (center - part_data) ** 2\r\n",
        "    sse = sse.sum(axis=1)\r\n",
        "    sse = sse.sum(axis=0)\r\n",
        "    return sse"
      ],
      "execution_count": 4,
      "outputs": []
    },
    {
      "cell_type": "code",
      "metadata": {
        "id": "kwicOm7lBuGs"
      },
      "source": [
        "def kmeans(k, data_idx, data, cls_res, center_idx, cluster_number):\r\n",
        "    center_list = random.sample(data_idx, k)\r\n",
        "    cls_center = []\r\n",
        "    temp_cls_res = []\r\n",
        "    temp_cls_res.extend(cls_res)\r\n",
        "\r\n",
        "    for i in center_list:\r\n",
        "        cls_center.append(data[i])\r\n",
        "\r\n",
        "    while True:\r\n",
        "        is_changed = 0\r\n",
        "        cls_count = np.zeros(k, dtype=float)\r\n",
        "        cls_avg = np.zeros([k, 7])\r\n",
        "        sse_idx1 = []\r\n",
        "        sse_idx2 = []\r\n",
        "        for i in data_idx:\r\n",
        "            # 计算点i到其他点的所有距离，并把点i分类到距离最近的聚类当中\r\n",
        "            point = data[i]\r\n",
        "            dist = (point - cls_center) ** 2\r\n",
        "            dist = dist.sum(axis=1)\r\n",
        "            dist = dist ** 0.5\r\n",
        "            min = dist.argsort()[0]\r\n",
        "            cls_avg[min] = cls_avg[min] + data[i]\r\n",
        "            if min == 0:\r\n",
        "                temp_cls_res[i] = center_idx\r\n",
        "            else:\r\n",
        "                temp_cls_res[i] = cluster_number\r\n",
        "\r\n",
        "            cls_count[min] = cls_count[min] + 1\r\n",
        "\r\n",
        "        for i in range(0, k):\r\n",
        "            avg = cls_avg[i] / cls_count[i]  # 获取新的中心点，并判断该聚类的中心点是否有变化\r\n",
        "            if not (np.array_equal(np.array(cls_center[i]), avg)):\r\n",
        "                cls_center[i] = avg\r\n",
        "                is_changed = 1\r\n",
        "\r\n",
        "        if is_changed == 0:\r\n",
        "            break\r\n",
        "\r\n",
        "    for i in data_idx:\r\n",
        "        if temp_cls_res[i] == center_idx:\r\n",
        "            sse_idx1.append(i)\r\n",
        "        else:\r\n",
        "            sse_idx2.append(i)\r\n",
        "    sse1 = get_SSE(sse_idx1, data, cls_center[0])\r\n",
        "    sse2 = get_SSE(sse_idx2, data, cls_center[1])\r\n",
        "    return cls_center, temp_cls_res, [sse1, sse2]"
      ],
      "execution_count": 5,
      "outputs": []
    },
    {
      "cell_type": "code",
      "metadata": {
        "id": "-mL25UZXBytE"
      },
      "source": [
        "def bisecting(k, data):\r\n",
        "    cls_center = []\r\n",
        "    cls_SSE = np.zeros(k, dtype='float')\r\n",
        "    cls_start = np.zeros(7, dtype='float')\r\n",
        "    cls_res = np.zeros(len(data), dtype='int')\r\n",
        "    cls_count = np.zeros(k, dtype='int')\r\n",
        "    for i in data:\r\n",
        "        cls_start = cls_start + i\r\n",
        "    cls_start = cls_start / len(data)\r\n",
        "    cls_center.append(cls_start)\r\n",
        "\r\n",
        "    while len(cls_center) < k:  # 重复操作，直到得到k个聚类为止\r\n",
        "        cls_count = np.zeros(k, dtype=float)\r\n",
        "        cls_avg = np.zeros([k, 7])\r\n",
        "\r\n",
        "        if len(cls_center) == 1:\r\n",
        "            for i in range(0, len(cls_center)):\r\n",
        "                cmp_SSE = []\r\n",
        "                data_idx = []\r\n",
        "                for j in range(0, len(data)):\r\n",
        "                    if cls_res[j] == i:\r\n",
        "                        data_idx.append(j)\r\n",
        "            center, temp_res, sse_list = kmeans(2, data_idx, data, cls_res, 0, 1)\r\n",
        "\r\n",
        "            cls_center = center\r\n",
        "            cls_res = temp_res\r\n",
        "            cls_SSE[0] = sse_list[0]\r\n",
        "            cls_SSE[1] = sse_list[1]\r\n",
        "        else:\r\n",
        "            temp_SSE = []\r\n",
        "            temp_center = []\r\n",
        "            cmp_SSE = []\r\n",
        "            res = []\r\n",
        "            for i in range(0, len(cls_center)):\r\n",
        "                data_idx = []\r\n",
        "                for j in range(0, len(data)):\r\n",
        "                    if cls_res[j] == i:\r\n",
        "                        data_idx.append(j)\r\n",
        "\r\n",
        "                center, temp_res, sse_list = kmeans(2, data_idx, data, cls_res, i, len(cls_center))\r\n",
        "                sse_list.append(cls_SSE[i])\r\n",
        "                res.append(temp_res)\r\n",
        "                temp_center.append(center)\r\n",
        "                temp_SSE.append(sse_list)\r\n",
        "            for i in temp_SSE:  # 对所有已有的聚类进行k=2的k-means计算之后，选取一个能降低SSE最多的一个计算结果\r\n",
        "                cmp_SSE.append(i[2] - i[0] - i[1])\r\n",
        "            min = np.array(cmp_SSE).argsort()[len(cmp_SSE) - 1]\r\n",
        "            cls_center[min] = temp_center[0]\r\n",
        "            cls_center.append(temp_center[1])\r\n",
        "            cls_res = res[min]\r\n",
        "            cls_SSE[min] = temp_SSE[min][0]\r\n",
        "            cls_SSE[len(cls_center) - 1] = temp_SSE[min][1]\r\n",
        "        # print(\"RES = \", count_result(cls_res))\r\n",
        "    for i in range(0, len(data)):\r\n",
        "        cls_count[cls_res[i]] = cls_count[cls_res[i]] + 1\r\n",
        "\r\n",
        "    return cls_res"
      ],
      "execution_count": 6,
      "outputs": []
    },
    {
      "cell_type": "code",
      "metadata": {
        "colab": {
          "base_uri": "https://localhost:8080/",
          "height": 231
        },
        "id": "iHHUoZoJB3MS",
        "outputId": "961e0b67-969a-4579-c92b-2262ad35b363"
      },
      "source": [
        "    k = 4\r\n",
        "    with open('https://raw.githubusercontent.com/furqoncreative/clusterling-bisecting-kmeans/master/dataset.csv') as f:\r\n",
        "        data = []\r\n",
        "        while True:\r\n",
        "            rows = f.readline()\r\n",
        "            if not rows:\r\n",
        "                break\r\n",
        "            reList = rows.strip().split(',')\r\n",
        "            data.append(reList)\r\n",
        "            print(reList)\r\n",
        "        data = np.array([[float(x) for x in row] for row in data])\r\n"
      ],
      "execution_count": 8,
      "outputs": [
        {
          "output_type": "error",
          "ename": "FileNotFoundError",
          "evalue": "ignored",
          "traceback": [
            "\u001b[0;31m---------------------------------------------------------------------------\u001b[0m",
            "\u001b[0;31mFileNotFoundError\u001b[0m                         Traceback (most recent call last)",
            "\u001b[0;32m<ipython-input-8-f5ad524bf7c2>\u001b[0m in \u001b[0;36m<module>\u001b[0;34m()\u001b[0m\n\u001b[1;32m      1\u001b[0m \u001b[0mk\u001b[0m \u001b[0;34m=\u001b[0m \u001b[0;36m4\u001b[0m\u001b[0;34m\u001b[0m\u001b[0;34m\u001b[0m\u001b[0m\n\u001b[0;32m----> 2\u001b[0;31m \u001b[0;32mwith\u001b[0m \u001b[0mopen\u001b[0m\u001b[0;34m(\u001b[0m\u001b[0;34m'https://raw.githubusercontent.com/furqoncreative/clusterling-bisecting-kmeans/master/dataset.csv'\u001b[0m\u001b[0;34m)\u001b[0m \u001b[0;32mas\u001b[0m \u001b[0mf\u001b[0m\u001b[0;34m:\u001b[0m\u001b[0;34m\u001b[0m\u001b[0;34m\u001b[0m\u001b[0m\n\u001b[0m\u001b[1;32m      3\u001b[0m     \u001b[0mdata\u001b[0m \u001b[0;34m=\u001b[0m \u001b[0;34m[\u001b[0m\u001b[0;34m]\u001b[0m\u001b[0;34m\u001b[0m\u001b[0;34m\u001b[0m\u001b[0m\n\u001b[1;32m      4\u001b[0m     \u001b[0;32mwhile\u001b[0m \u001b[0;32mTrue\u001b[0m\u001b[0;34m:\u001b[0m\u001b[0;34m\u001b[0m\u001b[0;34m\u001b[0m\u001b[0m\n\u001b[1;32m      5\u001b[0m         \u001b[0mrows\u001b[0m \u001b[0;34m=\u001b[0m \u001b[0mf\u001b[0m\u001b[0;34m.\u001b[0m\u001b[0mreadline\u001b[0m\u001b[0;34m(\u001b[0m\u001b[0;34m)\u001b[0m\u001b[0;34m\u001b[0m\u001b[0;34m\u001b[0m\u001b[0m\n",
            "\u001b[0;31mFileNotFoundError\u001b[0m: [Errno 2] No such file or directory: 'https://raw.githubusercontent.com/furqoncreative/clusterling-bisecting-kmeans/master/dataset.csv'"
          ]
        }
      ]
    }
  ]
}