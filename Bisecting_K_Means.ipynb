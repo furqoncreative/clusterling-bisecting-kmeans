{
  "nbformat": 4,
  "nbformat_minor": 0,
  "metadata": {
    "colab": {
      "name": "Bisecting-K-Means.ipynb",
      "provenance": [],
      "authorship_tag": "ABX9TyPI1TyiHtZkwhId7fcfR01M",
      "include_colab_link": true
    },
    "kernelspec": {
      "name": "python3",
      "display_name": "Python 3"
    }
  },
  "cells": [
    {
      "cell_type": "markdown",
      "metadata": {
        "id": "view-in-github",
        "colab_type": "text"
      },
      "source": [
        "<a href=\"https://colab.research.google.com/github/furqoncreative/clusterling-bisecting-kmeans/blob/master/Bisecting_K_Means.ipynb\" target=\"_parent\"><img src=\"https://colab.research.google.com/assets/colab-badge.svg\" alt=\"Open In Colab\"/></a>"
      ]
    },
    {
      "cell_type": "code",
      "metadata": {
        "id": "Hfn27odm_isa"
      },
      "source": [
        "import random\r\n",
        "import matplotlib.pyplot as plt\r\n",
        "import numpy as np\r\n",
        "from sklearn.manifold import TSNE\r\n",
        "import requests\r\n",
        "import pandas as pd"
      ],
      "execution_count": 9,
      "outputs": []
    },
    {
      "cell_type": "code",
      "metadata": {
        "colab": {
          "base_uri": "https://localhost:8080/",
          "height": 359
        },
        "id": "ZDuv-Ui9GhOn",
        "outputId": "e60b4ed9-e941-4393-9eff-d0c9554525f6"
      },
      "source": [
        "url = 'https://raw.githubusercontent.com/furqoncreative/clusterling-bisecting-kmeans/master/dataset.csv'\r\n",
        "df = pd.read_csv(url)\r\n",
        "df.head(10)"
      ],
      "execution_count": 10,
      "outputs": [
        {
          "output_type": "execute_result",
          "data": {
            "text/html": [
              "<div>\n",
              "<style scoped>\n",
              "    .dataframe tbody tr th:only-of-type {\n",
              "        vertical-align: middle;\n",
              "    }\n",
              "\n",
              "    .dataframe tbody tr th {\n",
              "        vertical-align: top;\n",
              "    }\n",
              "\n",
              "    .dataframe thead th {\n",
              "        text-align: right;\n",
              "    }\n",
              "</style>\n",
              "<table border=\"1\" class=\"dataframe\">\n",
              "  <thead>\n",
              "    <tr style=\"text-align: right;\">\n",
              "      <th></th>\n",
              "      <th>28</th>\n",
              "      <th>64</th>\n",
              "      <th>28.1</th>\n",
              "      <th>16</th>\n",
              "      <th>0</th>\n",
              "      <th>0.1</th>\n",
              "      <th>0.2</th>\n",
              "    </tr>\n",
              "  </thead>\n",
              "  <tbody>\n",
              "    <tr>\n",
              "      <th>0</th>\n",
              "      <td>26</td>\n",
              "      <td>0</td>\n",
              "      <td>0</td>\n",
              "      <td>0</td>\n",
              "      <td>0</td>\n",
              "      <td>0</td>\n",
              "      <td>0</td>\n",
              "    </tr>\n",
              "    <tr>\n",
              "      <th>1</th>\n",
              "      <td>25</td>\n",
              "      <td>0</td>\n",
              "      <td>0</td>\n",
              "      <td>0</td>\n",
              "      <td>0</td>\n",
              "      <td>0</td>\n",
              "      <td>0</td>\n",
              "    </tr>\n",
              "    <tr>\n",
              "      <th>2</th>\n",
              "      <td>25</td>\n",
              "      <td>160</td>\n",
              "      <td>90</td>\n",
              "      <td>37</td>\n",
              "      <td>7</td>\n",
              "      <td>0</td>\n",
              "      <td>0</td>\n",
              "    </tr>\n",
              "    <tr>\n",
              "      <th>3</th>\n",
              "      <td>23</td>\n",
              "      <td>16</td>\n",
              "      <td>7</td>\n",
              "      <td>5</td>\n",
              "      <td>1</td>\n",
              "      <td>0</td>\n",
              "      <td>0</td>\n",
              "    </tr>\n",
              "    <tr>\n",
              "      <th>4</th>\n",
              "      <td>19</td>\n",
              "      <td>0</td>\n",
              "      <td>0</td>\n",
              "      <td>0</td>\n",
              "      <td>0</td>\n",
              "      <td>0</td>\n",
              "      <td>0</td>\n",
              "    </tr>\n",
              "    <tr>\n",
              "      <th>5</th>\n",
              "      <td>32</td>\n",
              "      <td>44</td>\n",
              "      <td>21</td>\n",
              "      <td>11</td>\n",
              "      <td>3</td>\n",
              "      <td>0</td>\n",
              "      <td>0</td>\n",
              "    </tr>\n",
              "    <tr>\n",
              "      <th>6</th>\n",
              "      <td>25</td>\n",
              "      <td>41</td>\n",
              "      <td>25</td>\n",
              "      <td>9</td>\n",
              "      <td>0</td>\n",
              "      <td>0</td>\n",
              "      <td>0</td>\n",
              "    </tr>\n",
              "    <tr>\n",
              "      <th>7</th>\n",
              "      <td>28</td>\n",
              "      <td>99</td>\n",
              "      <td>52</td>\n",
              "      <td>26</td>\n",
              "      <td>7</td>\n",
              "      <td>0</td>\n",
              "      <td>0</td>\n",
              "    </tr>\n",
              "    <tr>\n",
              "      <th>8</th>\n",
              "      <td>25</td>\n",
              "      <td>139</td>\n",
              "      <td>47</td>\n",
              "      <td>57</td>\n",
              "      <td>6</td>\n",
              "      <td>0</td>\n",
              "      <td>0</td>\n",
              "    </tr>\n",
              "    <tr>\n",
              "      <th>9</th>\n",
              "      <td>33</td>\n",
              "      <td>194</td>\n",
              "      <td>113</td>\n",
              "      <td>38</td>\n",
              "      <td>13</td>\n",
              "      <td>0</td>\n",
              "      <td>0</td>\n",
              "    </tr>\n",
              "  </tbody>\n",
              "</table>\n",
              "</div>"
            ],
            "text/plain": [
              "   28   64  28.1  16   0  0.1  0.2\n",
              "0  26    0     0   0   0    0    0\n",
              "1  25    0     0   0   0    0    0\n",
              "2  25  160    90  37   7    0    0\n",
              "3  23   16     7   5   1    0    0\n",
              "4  19    0     0   0   0    0    0\n",
              "5  32   44    21  11   3    0    0\n",
              "6  25   41    25   9   0    0    0\n",
              "7  28   99    52  26   7    0    0\n",
              "8  25  139    47  57   6    0    0\n",
              "9  33  194   113  38  13    0    0"
            ]
          },
          "metadata": {
            "tags": []
          },
          "execution_count": 10
        }
      ]
    },
    {
      "cell_type": "code",
      "metadata": {
        "colab": {
          "base_uri": "https://localhost:8080/"
        },
        "id": "8BixHNBuGq8T",
        "outputId": "74296b81-7c71-41da-f713-269be9c6b6fd"
      },
      "source": [
        "data = df.to_numpy()"
      ],
      "execution_count": 13,
      "outputs": [
        {
          "output_type": "stream",
          "text": [
            "[[ 26   0   0 ...   0   0   0]\n",
            " [ 25   0   0 ...   0   0   0]\n",
            " [ 25 160  90 ...   7   0   0]\n",
            " ...\n",
            " [ 24 105  27 ...   5  78  21]\n",
            " [ 18   1   0 ...   0   0   0]\n",
            " [ 20   0   0 ...   0   0   0]]\n"
          ],
          "name": "stdout"
        }
      ]
    },
    {
      "cell_type": "code",
      "metadata": {
        "id": "GTXY31EUAvTO"
      },
      "source": [
        "def get_intra(clt, data):\r\n",
        "    total_dist = 0\r\n",
        "    for i in clt:\r\n",
        "        for j in clt:\r\n",
        "            dist = (data[i] - data[j]) ** 2\r\n",
        "            dist = dist.sum()\r\n",
        "            dist = dist ** 0.5\r\n",
        "            total_dist = total_dist + dist\r\n",
        "\r\n",
        "    return total_dist / (len(clt) * len(clt))"
      ],
      "execution_count": 19,
      "outputs": []
    },
    {
      "cell_type": "code",
      "metadata": {
        "id": "rKb25esWBfJ0"
      },
      "source": [
        "def get_inter(clt1, clt2, data):\r\n",
        "    total_dist = 0\r\n",
        "    for i in clt1:\r\n",
        "        for j in clt2:\r\n",
        "            dist = (data[i] - data[j]) ** 2\r\n",
        "            dist = dist.sum()\r\n",
        "            dist = dist ** 0.5\r\n",
        "            total_dist = total_dist + dist\r\n",
        "\r\n",
        "    return total_dist / (len(clt1) * len(clt2))"
      ],
      "execution_count": 20,
      "outputs": []
    },
    {
      "cell_type": "code",
      "metadata": {
        "id": "4WMwlcl6BjYP"
      },
      "source": [
        "def get_center(data_idx, data):\r\n",
        "    center = np.zeros(7, dtype='float')\r\n",
        "    for i in data_idx:\r\n",
        "        center = center + data[i]\r\n",
        "\r\n",
        "    return center / len(data_idx)"
      ],
      "execution_count": 21,
      "outputs": []
    },
    {
      "cell_type": "code",
      "metadata": {
        "id": "Al7piZDRBpHX"
      },
      "source": [
        "def get_SSE(data_idx, data, center):\r\n",
        "    part_data = []\r\n",
        "    for i in data_idx:\r\n",
        "        part_data.append(data[i])\r\n",
        "    sse = (center - part_data) ** 2\r\n",
        "    sse = sse.sum(axis=1)\r\n",
        "    sse = sse.sum(axis=0)\r\n",
        "    return sse"
      ],
      "execution_count": 23,
      "outputs": []
    },
    {
      "cell_type": "code",
      "metadata": {
        "id": "kwicOm7lBuGs"
      },
      "source": [
        "def kmeans(k, data_idx, data, cls_res, center_idx, cluster_number):\r\n",
        "    center_list = random.sample(data_idx, k)\r\n",
        "    cls_center = []\r\n",
        "    temp_cls_res = []\r\n",
        "    temp_cls_res.extend(cls_res)\r\n",
        "\r\n",
        "    for i in center_list:\r\n",
        "        cls_center.append(data[i])\r\n",
        "\r\n",
        "    while True:\r\n",
        "        is_changed = 0\r\n",
        "        cls_count = np.zeros(k, dtype=float)\r\n",
        "        cls_avg = np.zeros([k, 7])\r\n",
        "        sse_idx1 = []\r\n",
        "        sse_idx2 = []\r\n",
        "        for i in data_idx:\r\n",
        "            point = data[i]\r\n",
        "            dist = (point - cls_center) ** 2\r\n",
        "            dist = dist.sum(axis=1)\r\n",
        "            dist = dist ** 0.5\r\n",
        "            min = dist.argsort()[0]\r\n",
        "            cls_avg[min] = cls_avg[min] + data[i]\r\n",
        "            if min == 0:\r\n",
        "                temp_cls_res[i] = center_idx\r\n",
        "            else:\r\n",
        "                temp_cls_res[i] = cluster_number\r\n",
        "\r\n",
        "            cls_count[min] = cls_count[min] + 1\r\n",
        "\r\n",
        "        for i in range(0, k):\r\n",
        "            avg = cls_avg[i] / cls_count[i]  \r\n",
        "            if not (np.array_equal(np.array(cls_center[i]), avg)):\r\n",
        "                cls_center[i] = avg\r\n",
        "                is_changed = 1\r\n",
        "\r\n",
        "        if is_changed == 0:\r\n",
        "            break\r\n",
        "\r\n",
        "    for i in data_idx:\r\n",
        "        if temp_cls_res[i] == center_idx:\r\n",
        "            sse_idx1.append(i)\r\n",
        "        else:\r\n",
        "            sse_idx2.append(i)\r\n",
        "    sse1 = get_SSE(sse_idx1, data, cls_center[0])\r\n",
        "    sse2 = get_SSE(sse_idx2, data, cls_center[1])\r\n",
        "    return cls_center, temp_cls_res, [sse1, sse2]"
      ],
      "execution_count": 24,
      "outputs": []
    },
    {
      "cell_type": "code",
      "metadata": {
        "id": "-mL25UZXBytE"
      },
      "source": [
        "def bisecting(k, data):\r\n",
        "    cls_center = []\r\n",
        "    cls_SSE = np.zeros(k, dtype='float')\r\n",
        "    cls_start = np.zeros(7, dtype='float')\r\n",
        "    cls_res = np.zeros(len(data), dtype='int')\r\n",
        "    cls_count = np.zeros(k, dtype='int')\r\n",
        "    for i in data:\r\n",
        "        cls_start = cls_start + i\r\n",
        "    cls_start = cls_start / len(data)\r\n",
        "    cls_center.append(cls_start)\r\n",
        "\r\n",
        "    while len(cls_center) < k: \r\n",
        "        cls_count = np.zeros(k, dtype=float)\r\n",
        "        cls_avg = np.zeros([k, 7])\r\n",
        "\r\n",
        "        if len(cls_center) == 1:\r\n",
        "            for i in range(0, len(cls_center)):\r\n",
        "                cmp_SSE = []\r\n",
        "                data_idx = []\r\n",
        "                for j in range(0, len(data)):\r\n",
        "                    if cls_res[j] == i:\r\n",
        "                        data_idx.append(j)\r\n",
        "            center, temp_res, sse_list = kmeans(2, data_idx, data, cls_res, 0, 1)\r\n",
        "\r\n",
        "            cls_center = center\r\n",
        "            cls_res = temp_res\r\n",
        "            cls_SSE[0] = sse_list[0]\r\n",
        "            cls_SSE[1] = sse_list[1]\r\n",
        "        else:\r\n",
        "            temp_SSE = []\r\n",
        "            temp_center = []\r\n",
        "            cmp_SSE = []\r\n",
        "            res = []\r\n",
        "            for i in range(0, len(cls_center)):\r\n",
        "                data_idx = []\r\n",
        "                for j in range(0, len(data)):\r\n",
        "                    if cls_res[j] == i:\r\n",
        "                        data_idx.append(j)\r\n",
        "\r\n",
        "                center, temp_res, sse_list = kmeans(2, data_idx, data, cls_res, i, len(cls_center))\r\n",
        "                sse_list.append(cls_SSE[i])\r\n",
        "                res.append(temp_res)\r\n",
        "                temp_center.append(center)\r\n",
        "                temp_SSE.append(sse_list)\r\n",
        "            for i in temp_SSE:  \r\n",
        "                cmp_SSE.append(i[2] - i[0] - i[1])\r\n",
        "            min = np.array(cmp_SSE).argsort()[len(cmp_SSE) - 1]\r\n",
        "            cls_center[min] = temp_center[0]\r\n",
        "            cls_center.append(temp_center[1])\r\n",
        "            cls_res = res[min]\r\n",
        "            cls_SSE[min] = temp_SSE[min][0]\r\n",
        "            cls_SSE[len(cls_center) - 1] = temp_SSE[min][1]\r\n",
        "        # print(\"RES = \", count_result(cls_res))\r\n",
        "    for i in range(0, len(data)):\r\n",
        "        cls_count[cls_res[i]] = cls_count[cls_res[i]] + 1\r\n",
        "\r\n",
        "    return cls_res"
      ],
      "execution_count": 25,
      "outputs": []
    },
    {
      "cell_type": "code",
      "metadata": {
        "colab": {
          "base_uri": "https://localhost:8080/",
          "height": 352
        },
        "id": "iHHUoZoJB3MS",
        "outputId": "c4146eae-384c-480a-816c-0ccac8fb6d2b"
      },
      "source": [
        "k = 4\r\n",
        "cls_res = bisecting(k, data)\r\n",
        "cls_count = np.zeros(k, dtype='int')\r\n",
        "for i in range(0, len(data)):\r\n",
        "    cls_count[cls_res[i]] = cls_count[cls_res[i]] + 1\r\n",
        "\r\n",
        "model = TSNE(learning_rate=100)\r\n",
        "transformed = model.fit_transform(data)\r\n",
        "\r\n",
        "collection_list = []\r\n",
        "intra_class = []\r\n",
        "inter_class = []\r\n",
        "sse_list = []\r\n",
        "for i in range(0, k):  # 可视化计算结果\r\n",
        "    result = []\r\n",
        "    xs = []\r\n",
        "    ys = []\r\n",
        "    for j in range(0, len(data)):\r\n",
        "        if cls_res[j] == i:\r\n",
        "            xs.append(transformed[j][0])\r\n",
        "            ys.append(transformed[j][1])\r\n",
        "            result.append(j)\r\n",
        "    plt.title(\"bisecting_kmeans\")\r\n",
        "    plt.scatter(xs, ys, c=[np.random.rand(3, )])\r\n",
        "\r\n",
        "    collection_list.append(result)\r\n",
        "plt.show()\r\n",
        "\r\n",
        "for i in range(0, len(collection_list)):\r\n",
        "    for j in range(i, len(collection_list)):\r\n",
        "        if i == j:\r\n",
        "            intra_class.append(get_intra(collection_list[j], data))\r\n",
        "            sse_list.append(get_SSE(collection_list[i], data, get_center(collection_list[i], data)))\r\n",
        "        else:\r\n",
        "            inter_class.append(get_inter(collection_list[i], collection_list[j], data))\r\n",
        "\r\n",
        "print(\"intra = \", intra_class, np.mean(intra_class), np.var(intra_class), np.std(intra_class))\r\n",
        "print(\"inter = \", inter_class, np.mean(inter_class), np.var(inter_class), np.std(inter_class))\r\n",
        "print(\"SSE = \", sse_list, np.mean(sse_list), np.var(sse_list), np.std(sse_list))"
      ],
      "execution_count": 26,
      "outputs": [
        {
          "output_type": "display_data",
          "data": {
            "image/png": "[encoded data removed]",
            "text/plain": [
              "<Figure size 432x288 with 1 Axes>"
            ]
          },
          "metadata": {
            "tags": [],
            "needs_background": "light"
          }
        },
        {
          "output_type": "stream",
          "text": [
            "intra =  [118.95772169550075, 120.7868664302284, 45.85514462617204, 229.6716276342873] 128.81784009654712 4304.003443332397 65.60490411038185\n",
            "inter =  [236.4803723323659, 289.9161803132245, 328.9693952257989, 177.16020402108626, 519.7861558799294, 585.6359756864781] 356.32471390981385 21820.715399184774 147.71836513847822\n",
            "SSE =  [418752.04081632657, 930767.8125, 666733.5112219452, 946629.5833333334] 740720.7369679013 46913573701.243614 216595.41477428284\n"
          ],
          "name": "stdout"
        }
      ]
    }
  ]
}