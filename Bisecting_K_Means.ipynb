{
  "nbformat": 4,
  "nbformat_minor": 0,
  "metadata": {
    "colab": {
      "name": "Bisecting-K-Means.ipynb",
      "provenance": [],
      "authorship_tag": "ABX9TyNg5ge7fPWgT1xAHh2/9FRb",
      "include_colab_link": true
    },
    "kernelspec": {
      "name": "python3",
      "display_name": "Python 3"
    }
  },
  "cells": [
    {
      "cell_type": "markdown",
      "metadata": {
        "id": "view-in-github",
        "colab_type": "text"
      },
      "source": [
        "<a href=\"https://colab.research.google.com/github/furqoncreative/clusterling-bisecting-kmeans/blob/master/Bisecting_K_Means.ipynb\" target=\"_parent\"><img src=\"https://colab.research.google.com/assets/colab-badge.svg\" alt=\"Open In Colab\"/></a>"
      ]
    },
    {
      "cell_type": "code",
      "metadata": {
        "id": "Hfn27odm_isa"
      },
      "source": [
        "import random\r\n",
        "import matplotlib.pyplot as plt\r\n",
        "import numpy as np\r\n",
        "from sklearn.manifold import TSNE\r\n",
        "import pandas as pd"
      ],
      "execution_count": 15,
      "outputs": []
    },
    {
      "cell_type": "markdown",
      "metadata": {
        "id": "i2S4Xu74YvaY"
      },
      "source": [
        "# Task 1: Loading the dataset"
      ]
    },
    {
      "cell_type": "code",
      "metadata": {
        "colab": {
          "base_uri": "https://localhost:8080/",
          "height": 360
        },
        "id": "ZDuv-Ui9GhOn",
        "outputId": "599cdbf0-7c0e-451f-ce01-2034ccd08eda"
      },
      "source": [
        "url = 'https://raw.githubusercontent.com/furqoncreative/data-mining-eclat/master/movie_metadata.csv'\r\n",
        "dataset=pd.read_csv(url)\r\n",
        "dataset.fillna(value=0,axis=1,inplace=True)\r\n",
        "dataset.head()"
      ],
      "execution_count": 17,
      "outputs": [
        {
          "output_type": "execute_result",
          "data": {
            "text/html": [
              "<div>\n",
              "<style scoped>\n",
              "    .dataframe tbody tr th:only-of-type {\n",
              "        vertical-align: middle;\n",
              "    }\n",
              "\n",
              "    .dataframe tbody tr th {\n",
              "        vertical-align: top;\n",
              "    }\n",
              "\n",
              "    .dataframe thead th {\n",
              "        text-align: right;\n",
              "    }\n",
              "</style>\n",
              "<table border=\"1\" class=\"dataframe\">\n",
              "  <thead>\n",
              "    <tr style=\"text-align: right;\">\n",
              "      <th></th>\n",
              "      <th>color</th>\n",
              "      <th>director_name</th>\n",
              "      <th>num_critic_for_reviews</th>\n",
              "      <th>duration</th>\n",
              "      <th>director_facebook_likes</th>\n",
              "      <th>actor_3_facebook_likes</th>\n",
              "      <th>actor_2_name</th>\n",
              "      <th>actor_1_facebook_likes</th>\n",
              "      <th>gross</th>\n",
              "      <th>genres</th>\n",
              "      <th>actor_1_name</th>\n",
              "      <th>movie_title</th>\n",
              "      <th>num_voted_users</th>\n",
              "      <th>cast_total_facebook_likes</th>\n",
              "      <th>actor_3_name</th>\n",
              "      <th>facenumber_in_poster</th>\n",
              "      <th>plot_keywords</th>\n",
              "      <th>movie_imdb_link</th>\n",
              "      <th>num_user_for_reviews</th>\n",
              "      <th>language</th>\n",
              "      <th>country</th>\n",
              "      <th>content_rating</th>\n",
              "      <th>budget</th>\n",
              "      <th>title_year</th>\n",
              "      <th>actor_2_facebook_likes</th>\n",
              "      <th>imdb_score</th>\n",
              "      <th>aspect_ratio</th>\n",
              "      <th>movie_facebook_likes</th>\n",
              "    </tr>\n",
              "  </thead>\n",
              "  <tbody>\n",
              "    <tr>\n",
              "      <th>0</th>\n",
              "      <td>Color</td>\n",
              "      <td>James Cameron</td>\n",
              "      <td>723.0</td>\n",
              "      <td>178.0</td>\n",
              "      <td>0.0</td>\n",
              "      <td>855.0</td>\n",
              "      <td>Joel David Moore</td>\n",
              "      <td>1000.0</td>\n",
              "      <td>760505847.0</td>\n",
              "      <td>Action|Adventure|Fantasy|Sci-Fi</td>\n",
              "      <td>CCH Pounder</td>\n",
              "      <td>Avatar</td>\n",
              "      <td>886204</td>\n",
              "      <td>4834</td>\n",
              "      <td>Wes Studi</td>\n",
              "      <td>0.0</td>\n",
              "      <td>avatar|future|marine|native|paraplegic</td>\n",
              "      <td>http://www.imdb.com/title/tt0499549/?ref_=fn_t...</td>\n",
              "      <td>3054.0</td>\n",
              "      <td>English</td>\n",
              "      <td>USA</td>\n",
              "      <td>PG-13</td>\n",
              "      <td>237000000.0</td>\n",
              "      <td>2009.0</td>\n",
              "      <td>936.0</td>\n",
              "      <td>7.9</td>\n",
              "      <td>1.78</td>\n",
              "      <td>33000</td>\n",
              "    </tr>\n",
              "    <tr>\n",
              "      <th>1</th>\n",
              "      <td>Color</td>\n",
              "      <td>Gore Verbinski</td>\n",
              "      <td>302.0</td>\n",
              "      <td>169.0</td>\n",
              "      <td>563.0</td>\n",
              "      <td>1000.0</td>\n",
              "      <td>Orlando Bloom</td>\n",
              "      <td>40000.0</td>\n",
              "      <td>309404152.0</td>\n",
              "      <td>Action|Adventure|Fantasy</td>\n",
              "      <td>Johnny Depp</td>\n",
              "      <td>Pirates of the Caribbean: At World's End</td>\n",
              "      <td>471220</td>\n",
              "      <td>48350</td>\n",
              "      <td>Jack Davenport</td>\n",
              "      <td>0.0</td>\n",
              "      <td>goddess|marriage ceremony|marriage proposal|pi...</td>\n",
              "      <td>http://www.imdb.com/title/tt0449088/?ref_=fn_t...</td>\n",
              "      <td>1238.0</td>\n",
              "      <td>English</td>\n",
              "      <td>USA</td>\n",
              "      <td>PG-13</td>\n",
              "      <td>300000000.0</td>\n",
              "      <td>2007.0</td>\n",
              "      <td>5000.0</td>\n",
              "      <td>7.1</td>\n",
              "      <td>2.35</td>\n",
              "      <td>0</td>\n",
              "    </tr>\n",
              "    <tr>\n",
              "      <th>2</th>\n",
              "      <td>Color</td>\n",
              "      <td>Sam Mendes</td>\n",
              "      <td>602.0</td>\n",
              "      <td>148.0</td>\n",
              "      <td>0.0</td>\n",
              "      <td>161.0</td>\n",
              "      <td>Rory Kinnear</td>\n",
              "      <td>11000.0</td>\n",
              "      <td>200074175.0</td>\n",
              "      <td>Action|Adventure|Thriller</td>\n",
              "      <td>Christoph Waltz</td>\n",
              "      <td>Spectre</td>\n",
              "      <td>275868</td>\n",
              "      <td>11700</td>\n",
              "      <td>Stephanie Sigman</td>\n",
              "      <td>1.0</td>\n",
              "      <td>bomb|espionage|sequel|spy|terrorist</td>\n",
              "      <td>http://www.imdb.com/title/tt2379713/?ref_=fn_t...</td>\n",
              "      <td>994.0</td>\n",
              "      <td>English</td>\n",
              "      <td>UK</td>\n",
              "      <td>PG-13</td>\n",
              "      <td>245000000.0</td>\n",
              "      <td>2015.0</td>\n",
              "      <td>393.0</td>\n",
              "      <td>6.8</td>\n",
              "      <td>2.35</td>\n",
              "      <td>85000</td>\n",
              "    </tr>\n",
              "    <tr>\n",
              "      <th>3</th>\n",
              "      <td>Color</td>\n",
              "      <td>Christopher Nolan</td>\n",
              "      <td>813.0</td>\n",
              "      <td>164.0</td>\n",
              "      <td>22000.0</td>\n",
              "      <td>23000.0</td>\n",
              "      <td>Christian Bale</td>\n",
              "      <td>27000.0</td>\n",
              "      <td>448130642.0</td>\n",
              "      <td>Action|Thriller</td>\n",
              "      <td>Tom Hardy</td>\n",
              "      <td>The Dark Knight Rises</td>\n",
              "      <td>1144337</td>\n",
              "      <td>106759</td>\n",
              "      <td>Joseph Gordon-Levitt</td>\n",
              "      <td>0.0</td>\n",
              "      <td>deception|imprisonment|lawlessness|police offi...</td>\n",
              "      <td>http://www.imdb.com/title/tt1345836/?ref_=fn_t...</td>\n",
              "      <td>2701.0</td>\n",
              "      <td>English</td>\n",
              "      <td>USA</td>\n",
              "      <td>PG-13</td>\n",
              "      <td>250000000.0</td>\n",
              "      <td>2012.0</td>\n",
              "      <td>23000.0</td>\n",
              "      <td>8.5</td>\n",
              "      <td>2.35</td>\n",
              "      <td>164000</td>\n",
              "    </tr>\n",
              "    <tr>\n",
              "      <th>4</th>\n",
              "      <td>0</td>\n",
              "      <td>Doug Walker</td>\n",
              "      <td>0.0</td>\n",
              "      <td>0.0</td>\n",
              "      <td>131.0</td>\n",
              "      <td>0.0</td>\n",
              "      <td>Rob Walker</td>\n",
              "      <td>131.0</td>\n",
              "      <td>0.0</td>\n",
              "      <td>Documentary</td>\n",
              "      <td>Doug Walker</td>\n",
              "      <td>Star Wars: Episode VII - The Force Awakens</td>\n",
              "      <td>8</td>\n",
              "      <td>143</td>\n",
              "      <td>0</td>\n",
              "      <td>0.0</td>\n",
              "      <td>0</td>\n",
              "      <td>http://www.imdb.com/title/tt5289954/?ref_=fn_t...</td>\n",
              "      <td>0.0</td>\n",
              "      <td>0</td>\n",
              "      <td>0</td>\n",
              "      <td>0</td>\n",
              "      <td>0.0</td>\n",
              "      <td>0.0</td>\n",
              "      <td>12.0</td>\n",
              "      <td>7.1</td>\n",
              "      <td>0.00</td>\n",
              "      <td>0</td>\n",
              "    </tr>\n",
              "  </tbody>\n",
              "</table>\n",
              "</div>"
            ],
            "text/plain": [
              "   color      director_name  ...  aspect_ratio  movie_facebook_likes\n",
              "0  Color      James Cameron  ...          1.78                 33000\n",
              "1  Color     Gore Verbinski  ...          2.35                     0\n",
              "2  Color         Sam Mendes  ...          2.35                 85000\n",
              "3  Color  Christopher Nolan  ...          2.35                164000\n",
              "4      0        Doug Walker  ...          0.00                     0\n",
              "\n",
              "[5 rows x 28 columns]"
            ]
          },
          "metadata": {
            "tags": []
          },
          "execution_count": 17
        }
      ]
    },
    {
      "cell_type": "markdown",
      "metadata": {
        "id": "kPrWZZmMY4Qi"
      },
      "source": [
        "## Task 2: Data Cleaning"
      ]
    },
    {
      "cell_type": "code",
      "metadata": {
        "colab": {
          "base_uri": "https://localhost:8080/",
          "height": 419
        },
        "id": "nCMC9xDeOCpU",
        "outputId": "70dcf403-d56a-4ef0-a9e4-5e040fd08022"
      },
      "source": [
        "df = pd.DataFrame(dataset)\r\n",
        "cols = [22,8]\r\n",
        "df = df[df.columns[cols]]\r\n",
        "df = df.loc[(df!=0.0).any(1)]\r\n",
        "df = df[:1000]\r\n",
        "display(df)"
      ],
      "execution_count": 18,
      "outputs": [
        {
          "output_type": "display_data",
          "data": {
            "text/html": [
              "<div>\n",
              "<style scoped>\n",
              "    .dataframe tbody tr th:only-of-type {\n",
              "        vertical-align: middle;\n",
              "    }\n",
              "\n",
              "    .dataframe tbody tr th {\n",
              "        vertical-align: top;\n",
              "    }\n",
              "\n",
              "    .dataframe thead th {\n",
              "        text-align: right;\n",
              "    }\n",
              "</style>\n",
              "<table border=\"1\" class=\"dataframe\">\n",
              "  <thead>\n",
              "    <tr style=\"text-align: right;\">\n",
              "      <th></th>\n",
              "      <th>budget</th>\n",
              "      <th>gross</th>\n",
              "    </tr>\n",
              "  </thead>\n",
              "  <tbody>\n",
              "    <tr>\n",
              "      <th>0</th>\n",
              "      <td>237000000.0</td>\n",
              "      <td>760505847.0</td>\n",
              "    </tr>\n",
              "    <tr>\n",
              "      <th>1</th>\n",
              "      <td>300000000.0</td>\n",
              "      <td>309404152.0</td>\n",
              "    </tr>\n",
              "    <tr>\n",
              "      <th>2</th>\n",
              "      <td>245000000.0</td>\n",
              "      <td>200074175.0</td>\n",
              "    </tr>\n",
              "    <tr>\n",
              "      <th>3</th>\n",
              "      <td>250000000.0</td>\n",
              "      <td>448130642.0</td>\n",
              "    </tr>\n",
              "    <tr>\n",
              "      <th>5</th>\n",
              "      <td>263700000.0</td>\n",
              "      <td>73058679.0</td>\n",
              "    </tr>\n",
              "    <tr>\n",
              "      <th>...</th>\n",
              "      <td>...</td>\n",
              "      <td>...</td>\n",
              "    </tr>\n",
              "    <tr>\n",
              "      <th>1021</th>\n",
              "      <td>50000000.0</td>\n",
              "      <td>10400000.0</td>\n",
              "    </tr>\n",
              "    <tr>\n",
              "      <th>1022</th>\n",
              "      <td>22000000.0</td>\n",
              "      <td>9528092.0</td>\n",
              "    </tr>\n",
              "    <tr>\n",
              "      <th>1024</th>\n",
              "      <td>50000000.0</td>\n",
              "      <td>10137232.0</td>\n",
              "    </tr>\n",
              "    <tr>\n",
              "      <th>1025</th>\n",
              "      <td>50000000.0</td>\n",
              "      <td>9795017.0</td>\n",
              "    </tr>\n",
              "    <tr>\n",
              "      <th>1026</th>\n",
              "      <td>50000000.0</td>\n",
              "      <td>20488579.0</td>\n",
              "    </tr>\n",
              "  </tbody>\n",
              "</table>\n",
              "<p>1000 rows × 2 columns</p>\n",
              "</div>"
            ],
            "text/plain": [
              "           budget        gross\n",
              "0     237000000.0  760505847.0\n",
              "1     300000000.0  309404152.0\n",
              "2     245000000.0  200074175.0\n",
              "3     250000000.0  448130642.0\n",
              "5     263700000.0   73058679.0\n",
              "...           ...          ...\n",
              "1021   50000000.0   10400000.0\n",
              "1022   22000000.0    9528092.0\n",
              "1024   50000000.0   10137232.0\n",
              "1025   50000000.0    9795017.0\n",
              "1026   50000000.0   20488579.0\n",
              "\n",
              "[1000 rows x 2 columns]"
            ]
          },
          "metadata": {
            "tags": []
          }
        }
      ]
    },
    {
      "cell_type": "markdown",
      "metadata": {
        "id": "zPL1ymWUY9UG"
      },
      "source": [
        "## Task 3: Data Frame to 2D Array"
      ]
    },
    {
      "cell_type": "code",
      "metadata": {
        "colab": {
          "base_uri": "https://localhost:8080/"
        },
        "id": "8BixHNBuGq8T",
        "outputId": "ef9d41f7-e91a-474b-c931-b1c31262a1ff"
      },
      "source": [
        "data = df.to_numpy()\r\n",
        "print(data)"
      ],
      "execution_count": 19,
      "outputs": [
        {
          "output_type": "stream",
          "text": [
            "[[2.37000000e+08 7.60505847e+08]\n",
            " [3.00000000e+08 3.09404152e+08]\n",
            " [2.45000000e+08 2.00074175e+08]\n",
            " ...\n",
            " [5.00000000e+07 1.01372320e+07]\n",
            " [5.00000000e+07 9.79501700e+06]\n",
            " [5.00000000e+07 2.04885790e+07]]\n"
          ],
          "name": "stdout"
        }
      ]
    },
    {
      "cell_type": "markdown",
      "metadata": {
        "id": "BQ_nTDdcZNLQ"
      },
      "source": [
        "# Task 4: **Bisecting K-Means**"
      ]
    },
    {
      "cell_type": "code",
      "metadata": {
        "id": "GTXY31EUAvTO"
      },
      "source": [
        "def get_intra(clt, data):\r\n",
        "    total_dist = 0\r\n",
        "    for i in clt:\r\n",
        "        for j in clt:\r\n",
        "            dist = (data[i] - data[j]) ** 2\r\n",
        "            dist = dist.sum()\r\n",
        "            dist = dist ** 0.5\r\n",
        "            total_dist = total_dist + dist\r\n",
        "\r\n",
        "    return total_dist / (len(clt) * len(clt))"
      ],
      "execution_count": 20,
      "outputs": []
    },
    {
      "cell_type": "code",
      "metadata": {
        "id": "rKb25esWBfJ0"
      },
      "source": [
        "def get_inter(clt1, clt2, data):\r\n",
        "    total_dist = 0\r\n",
        "    for i in clt1:\r\n",
        "        for j in clt2:\r\n",
        "            dist = (data[i] - data[j]) ** 2\r\n",
        "            dist = dist.sum()\r\n",
        "            dist = dist ** 0.5\r\n",
        "            total_dist = total_dist + dist\r\n",
        "\r\n",
        "    return total_dist / (len(clt1) * len(clt2))\r\n",
        "    "
      ],
      "execution_count": 21,
      "outputs": []
    },
    {
      "cell_type": "code",
      "metadata": {
        "id": "4WMwlcl6BjYP"
      },
      "source": [
        "def get_center(data_idx, data):\r\n",
        "    center = np.zeros(7, dtype='float')\r\n",
        "    for i in data_idx:\r\n",
        "        center = center + data[i]\r\n",
        "\r\n",
        "    return center / len(data_idx)"
      ],
      "execution_count": 22,
      "outputs": []
    },
    {
      "cell_type": "code",
      "metadata": {
        "id": "Al7piZDRBpHX"
      },
      "source": [
        "def get_SSE(data_idx, data, center):\r\n",
        "    part_data = []\r\n",
        "    for i in data_idx:\r\n",
        "        part_data.append(data[i])\r\n",
        "    sse = (center - part_data) ** 2\r\n",
        "    sse = sse.sum(axis=1)\r\n",
        "    sse = sse.sum(axis=0)\r\n",
        "    return sse"
      ],
      "execution_count": 23,
      "outputs": []
    },
    {
      "cell_type": "code",
      "metadata": {
        "id": "kwicOm7lBuGs"
      },
      "source": [
        "def kmeans(k, data_idx, data, cls_res, center_idx, cluster_number):\r\n",
        "    center_list = random.sample(data_idx, k)\r\n",
        "    cls_center = []\r\n",
        "    temp_cls_res = []\r\n",
        "    temp_cls_res.extend(cls_res)\r\n",
        "\r\n",
        "    for i in center_list:\r\n",
        "        cls_center.append(data[i])\r\n",
        "\r\n",
        "    while True:\r\n",
        "        is_changed = 0\r\n",
        "        cls_count = np.zeros(k, dtype=float)\r\n",
        "        cls_avg = np.zeros([k, 2])\r\n",
        "        sse_idx1 = []\r\n",
        "        sse_idx2 = []\r\n",
        "        for i in data_idx:\r\n",
        "            point = data[i]\r\n",
        "            dist = (point - cls_center) ** 2\r\n",
        "            dist = dist.sum(axis=1)\r\n",
        "            dist = dist ** 0.5\r\n",
        "            min = dist.argsort()[0]\r\n",
        "            cls_avg[min] = cls_avg[min] + data[i]\r\n",
        "            if min == 0:\r\n",
        "                temp_cls_res[i] = center_idx\r\n",
        "            else:\r\n",
        "                temp_cls_res[i] = cluster_number\r\n",
        "\r\n",
        "            cls_count[min] = cls_count[min] + 1\r\n",
        "\r\n",
        "        for i in range(0, k):\r\n",
        "            avg = cls_avg[i] / cls_count[i]\r\n",
        "            if not (np.array_equal(np.array(cls_center[i]), avg)):\r\n",
        "                cls_center[i] = avg\r\n",
        "                is_changed = 1\r\n",
        "\r\n",
        "        if is_changed == 0:\r\n",
        "            break\r\n",
        "\r\n",
        "    for i in data_idx:\r\n",
        "        if temp_cls_res[i] == center_idx:\r\n",
        "            sse_idx1.append(i)\r\n",
        "        else:\r\n",
        "            sse_idx2.append(i)\r\n",
        "    sse1 = get_SSE(sse_idx1, data, cls_center[0])\r\n",
        "    sse2 = get_SSE(sse_idx2, data, cls_center[1])\r\n",
        "    return cls_center, temp_cls_res, [sse1, sse2]"
      ],
      "execution_count": 24,
      "outputs": []
    },
    {
      "cell_type": "code",
      "metadata": {
        "id": "-mL25UZXBytE"
      },
      "source": [
        "def bisecting(k, data):\r\n",
        "    cls_center = []\r\n",
        "    cls_SSE = np.zeros(k, dtype='float')\r\n",
        "    cls_start = np.zeros(2, dtype='float')\r\n",
        "    cls_res = np.zeros(len(data), dtype='int')\r\n",
        "    cls_count = np.zeros(k, dtype='int')\r\n",
        "    for i in data:\r\n",
        "        cls_start = cls_start + i\r\n",
        "    cls_start = cls_start / len(data)\r\n",
        "    cls_center.append(cls_start)\r\n",
        "\r\n",
        "    while len(cls_center) < k:\r\n",
        "        cls_count = np.zeros(k, dtype=float)\r\n",
        "        cls_avg = np.zeros([k, 2])\r\n",
        "\r\n",
        "        if len(cls_center) == 1:\r\n",
        "            for i in range(0, len(cls_center)):\r\n",
        "                cmp_SSE = []\r\n",
        "                data_idx = []\r\n",
        "                for j in range(0, len(data)):\r\n",
        "                    if cls_res[j] == i:\r\n",
        "                        data_idx.append(j)\r\n",
        "            center, temp_res, sse_list = kmeans(2, data_idx, data, cls_res, 0, 1)\r\n",
        "\r\n",
        "            cls_center = center\r\n",
        "            cls_res = temp_res\r\n",
        "            cls_SSE[0] = sse_list[0]\r\n",
        "            cls_SSE[1] = sse_list[1]\r\n",
        "        else:\r\n",
        "            temp_SSE = []\r\n",
        "            temp_center = []\r\n",
        "            cmp_SSE = []\r\n",
        "            res = []\r\n",
        "            for i in range(0, len(cls_center)):\r\n",
        "                data_idx = []\r\n",
        "                for j in range(0, len(data)):\r\n",
        "                    if cls_res[j] == i:\r\n",
        "                        data_idx.append(j)\r\n",
        "\r\n",
        "                center, temp_res, sse_list = kmeans(2, data_idx, data, cls_res, i, len(cls_center))\r\n",
        "                sse_list.append(cls_SSE[i])\r\n",
        "                res.append(temp_res)\r\n",
        "                temp_center.append(center)\r\n",
        "                temp_SSE.append(sse_list)\r\n",
        "            for i in temp_SSE:\r\n",
        "                cmp_SSE.append(i[2] - i[0] - i[1])\r\n",
        "            min = np.array(cmp_SSE).argsort()[len(cmp_SSE) - 1]\r\n",
        "            cls_center[min] = temp_center[0]\r\n",
        "            cls_center.append(temp_center[1])\r\n",
        "            cls_res = res[min]\r\n",
        "            cls_SSE[min] = temp_SSE[min][0]\r\n",
        "            cls_SSE[len(cls_center) - 1] = temp_SSE[min][1]\r\n",
        "        # print(\"RES = \", count_result(cls_res))\r\n",
        "    for i in range(0, len(data)):\r\n",
        "        cls_count[cls_res[i]] = cls_count[cls_res[i]] + 1\r\n",
        "\r\n",
        "    return cls_res"
      ],
      "execution_count": 25,
      "outputs": []
    },
    {
      "cell_type": "markdown",
      "metadata": {
        "id": "3i6QkvBvZTgE"
      },
      "source": [
        "## Task 5: Result & Visualization"
      ]
    },
    {
      "cell_type": "code",
      "metadata": {
        "colab": {
          "base_uri": "https://localhost:8080/",
          "height": 614
        },
        "id": "iHHUoZoJB3MS",
        "outputId": "0c5eeea7-05aa-4c59-c219-8766e3f4b3d8"
      },
      "source": [
        "k = 4\r\n",
        "cls_res = bisecting(k, data)\r\n",
        "cls_count = np.zeros(k, dtype='int')\r\n",
        "for i in range(0, len(data)):\r\n",
        "    cls_count[cls_res[i]] = cls_count[cls_res[i]] + 1\r\n",
        "\r\n",
        "model = TSNE(learning_rate=100)\r\n",
        "transformed = model.fit_transform(data)\r\n",
        "\r\n",
        "collection_list = []\r\n",
        "intra_class = []\r\n",
        "inter_class = []\r\n",
        "sse_list = []\r\n",
        "for i in range(0, k):\r\n",
        "    result = []\r\n",
        "    xs = []\r\n",
        "    ys = []\r\n",
        "    for j in range(0, len(data)):\r\n",
        "        if cls_res[j] == i:\r\n",
        "            xs.append(transformed[j][0])\r\n",
        "            ys.append(transformed[j][1])\r\n",
        "            result.append(j)\r\n",
        "    plt.title(\"Result\")\r\n",
        "    plt.scatter(xs, ys, c=[np.random.rand(3, )])\r\n",
        "\r\n",
        "    collection_list.append(result)\r\n",
        "plt.show()\r\n",
        "\r\n",
        "for i in range(0, len(collection_list)):\r\n",
        "    for j in range(i, len(collection_list)):\r\n",
        "        if i == j:\r\n",
        "            intra_class.append(get_intra(collection_list[j], data))\r\n",
        "            sse_list.append(get_SSE(collection_list[i], data, get_center(collection_list[i], data)))\r\n",
        "        else:\r\n",
        "            inter_class.append(get_inter(collection_list[i], collection_list[j], data))\r\n",
        "\r\n",
        "print(\"intra = \", intra_class, np.mean(intra_class), np.var(intra_class), np.std(intra_class))\r\n",
        "print(\"inter = \", inter_class, np.mean(inter_class), np.var(inter_class), np.std(inter_class))\r\n",
        "print(\"SSE = \", sse_list, np.mean(sse_list), np.var(sse_list), np.std(sse_list))"
      ],
      "execution_count": 28,
      "outputs": [
        {
          "output_type": "display_data",
          "data": {
            "image/png": "[encoded data removed]",
            "text/plain": [
              "<Figure size 432x288 with 1 Axes>"
            ]
          },
          "metadata": {
            "tags": [],
            "needs_background": "light"
          }
        },
        {
          "output_type": "error",
          "ename": "ValueError",
          "evalue": "ignored",
          "traceback": [
            "\u001b[0;31m---------------------------------------------------------------------------\u001b[0m",
            "\u001b[0;31mValueError\u001b[0m                                Traceback (most recent call last)",
            "\u001b[0;32m<ipython-input-28-369dd0968447>\u001b[0m in \u001b[0;36m<module>\u001b[0;34m()\u001b[0m\n\u001b[1;32m     31\u001b[0m         \u001b[0;32mif\u001b[0m \u001b[0mi\u001b[0m \u001b[0;34m==\u001b[0m \u001b[0mj\u001b[0m\u001b[0;34m:\u001b[0m\u001b[0;34m\u001b[0m\u001b[0;34m\u001b[0m\u001b[0m\n\u001b[1;32m     32\u001b[0m             \u001b[0mintra_class\u001b[0m\u001b[0;34m.\u001b[0m\u001b[0mappend\u001b[0m\u001b[0;34m(\u001b[0m\u001b[0mget_intra\u001b[0m\u001b[0;34m(\u001b[0m\u001b[0mcollection_list\u001b[0m\u001b[0;34m[\u001b[0m\u001b[0mj\u001b[0m\u001b[0;34m]\u001b[0m\u001b[0;34m,\u001b[0m \u001b[0mdata\u001b[0m\u001b[0;34m)\u001b[0m\u001b[0;34m)\u001b[0m\u001b[0;34m\u001b[0m\u001b[0;34m\u001b[0m\u001b[0m\n\u001b[0;32m---> 33\u001b[0;31m             \u001b[0msse_list\u001b[0m\u001b[0;34m.\u001b[0m\u001b[0mappend\u001b[0m\u001b[0;34m(\u001b[0m\u001b[0mget_SSE\u001b[0m\u001b[0;34m(\u001b[0m\u001b[0mcollection_list\u001b[0m\u001b[0;34m[\u001b[0m\u001b[0mi\u001b[0m\u001b[0;34m]\u001b[0m\u001b[0;34m,\u001b[0m \u001b[0mdata\u001b[0m\u001b[0;34m,\u001b[0m \u001b[0mget_center\u001b[0m\u001b[0;34m(\u001b[0m\u001b[0mcollection_list\u001b[0m\u001b[0;34m[\u001b[0m\u001b[0mi\u001b[0m\u001b[0;34m]\u001b[0m\u001b[0;34m,\u001b[0m \u001b[0mdata\u001b[0m\u001b[0;34m)\u001b[0m\u001b[0;34m)\u001b[0m\u001b[0;34m)\u001b[0m\u001b[0;34m\u001b[0m\u001b[0;34m\u001b[0m\u001b[0m\n\u001b[0m\u001b[1;32m     34\u001b[0m         \u001b[0;32melse\u001b[0m\u001b[0;34m:\u001b[0m\u001b[0;34m\u001b[0m\u001b[0;34m\u001b[0m\u001b[0m\n\u001b[1;32m     35\u001b[0m             \u001b[0minter_class\u001b[0m\u001b[0;34m.\u001b[0m\u001b[0mappend\u001b[0m\u001b[0;34m(\u001b[0m\u001b[0mget_inter\u001b[0m\u001b[0;34m(\u001b[0m\u001b[0mcollection_list\u001b[0m\u001b[0;34m[\u001b[0m\u001b[0mi\u001b[0m\u001b[0;34m]\u001b[0m\u001b[0;34m,\u001b[0m \u001b[0mcollection_list\u001b[0m\u001b[0;34m[\u001b[0m\u001b[0mj\u001b[0m\u001b[0;34m]\u001b[0m\u001b[0;34m,\u001b[0m \u001b[0mdata\u001b[0m\u001b[0;34m)\u001b[0m\u001b[0;34m)\u001b[0m\u001b[0;34m\u001b[0m\u001b[0;34m\u001b[0m\u001b[0m\n",
            "\u001b[0;32m<ipython-input-22-294153863e69>\u001b[0m in \u001b[0;36mget_center\u001b[0;34m(data_idx, data)\u001b[0m\n\u001b[1;32m      2\u001b[0m     \u001b[0mcenter\u001b[0m \u001b[0;34m=\u001b[0m \u001b[0mnp\u001b[0m\u001b[0;34m.\u001b[0m\u001b[0mzeros\u001b[0m\u001b[0;34m(\u001b[0m\u001b[0;36m7\u001b[0m\u001b[0;34m,\u001b[0m \u001b[0mdtype\u001b[0m\u001b[0;34m=\u001b[0m\u001b[0;34m'float'\u001b[0m\u001b[0;34m)\u001b[0m\u001b[0;34m\u001b[0m\u001b[0;34m\u001b[0m\u001b[0m\n\u001b[1;32m      3\u001b[0m     \u001b[0;32mfor\u001b[0m \u001b[0mi\u001b[0m \u001b[0;32min\u001b[0m \u001b[0mdata_idx\u001b[0m\u001b[0;34m:\u001b[0m\u001b[0;34m\u001b[0m\u001b[0;34m\u001b[0m\u001b[0m\n\u001b[0;32m----> 4\u001b[0;31m         \u001b[0mcenter\u001b[0m \u001b[0;34m=\u001b[0m \u001b[0mcenter\u001b[0m \u001b[0;34m+\u001b[0m \u001b[0mdata\u001b[0m\u001b[0;34m[\u001b[0m\u001b[0mi\u001b[0m\u001b[0;34m]\u001b[0m\u001b[0;34m\u001b[0m\u001b[0;34m\u001b[0m\u001b[0m\n\u001b[0m\u001b[1;32m      5\u001b[0m \u001b[0;34m\u001b[0m\u001b[0m\n\u001b[1;32m      6\u001b[0m     \u001b[0;32mreturn\u001b[0m \u001b[0mcenter\u001b[0m \u001b[0;34m/\u001b[0m \u001b[0mlen\u001b[0m\u001b[0;34m(\u001b[0m\u001b[0mdata_idx\u001b[0m\u001b[0;34m)\u001b[0m\u001b[0;34m\u001b[0m\u001b[0;34m\u001b[0m\u001b[0m\n",
            "\u001b[0;31mValueError\u001b[0m: operands could not be broadcast together with shapes (7,) (2,) "
          ]
        }
      ]
    }
  ]
}